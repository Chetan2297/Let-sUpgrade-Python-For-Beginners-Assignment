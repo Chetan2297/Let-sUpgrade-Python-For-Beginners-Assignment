{
  "nbformat": 4,
  "nbformat_minor": 0,
  "metadata": {
    "colab": {
      "name": "Day_5_Assignment.ipynb",
      "provenance": [],
      "collapsed_sections": [],
      "include_colab_link": true
    },
    "kernelspec": {
      "name": "python3",
      "display_name": "Python 3"
    },
    "language_info": {
      "name": "python"
    }
  },
  "cells": [
    {
      "cell_type": "markdown",
      "metadata": {
        "id": "view-in-github",
        "colab_type": "text"
      },
      "source": [
        "<a href=\"https://colab.research.google.com/github/Ansarafsar/Letsupgrade-Assignment/blob/main/Day_5_Assignment_Python%20for%20beginners.ipynb\" target=\"_parent\"><img src=\"https://colab.research.google.com/assets/colab-badge.svg\" alt=\"Open In Colab\"/></a>"
      ]
    },
    {
      "cell_type": "code",
      "metadata": {
        "colab": {
          "base_uri": "https://localhost:8080/"
        },
        "id": "X4GsxpzaYcdt",
        "outputId": "e3f75482-b8c6-4eff-dfbf-4a93b064d42c"
      },
      "source": [
        "# Finding Prime or Not\n",
        "\n",
        "def isPrime(num):\n",
        "    for i in range(2, int(num/2+1)):\n",
        "        if(num % i == 0):\n",
        "            print(num, \" is not a Prime Number.\")\n",
        "            break\n",
        "    else:\n",
        "        print(num, \" is a Prime Number.\")\n",
        "\n",
        "\n",
        "print(\"Enter the number you want to check is Prime or Not\")\n",
        "a = int(input())\n",
        "isPrime(a)\n"
      ],
      "execution_count": null,
      "outputs": [
        {
          "output_type": "stream",
          "text": [
            "Enter the number you want to check is Prime or Not\n",
            "8\n",
            "8  is not a Prime Number.\n"
          ],
          "name": "stdout"
        }
      ]
    },
    {
      "cell_type": "code",
      "metadata": {
        "id": "3_kRx4dDams4"
      },
      "source": [
        "# YouTube Video Downloader:\n",
        "\n",
        " # to make this program work make sure pytube package is installed on your device\n",
        " # pip install pytube\n",
        "\n",
        "from pytube import YouTube\n",
        "\n",
        "video = YouTube(input(\"Enter the link of that video : \"))\n",
        "\n",
        "print(video.title)\n",
        "\n",
        "print(video.thumbnail_url)\n",
        "\n",
        "streams = video.streams\n",
        "\n",
        "for stream in streams:\n",
        "    print(stream)\n",
        "\n",
        "stream = video.streams.get_by_itag(\n",
        "    input(\"Enter the itag number you see below for the preferred quality : \"))\n",
        "\n",
        "\n",
        "file_size = stream.filesize\n",
        "\n",
        "print(round(file_size/(1024*1024)), \" MB\")\n",
        "\n",
        "print(\"Download Started ....... wait for a while....\")\n",
        "\n",
        "# stream.download(r'D:\\PY_YouTube_Download_videos') you can change folder as per you want.\n",
        "\n",
        "print(\"Download Successfully Compledted !\")\n"
      ],
      "execution_count": null,
      "outputs": []
    }
  ]
}