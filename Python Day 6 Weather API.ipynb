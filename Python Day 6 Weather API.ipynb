{
  "nbformat": 4,
  "nbformat_minor": 0,
  "metadata": {
    "colab": {
      "name": "Weather API.ipynb",
      "provenance": [],
      "collapsed_sections": [],
      "authorship_tag": "ABX9TyOO2J59R0p851bS8DeDuv/p",
      "include_colab_link": true
    },
    "kernelspec": {
      "name": "python3",
      "display_name": "Python 3"
    },
    "language_info": {
      "name": "python"
    }
  },
  "cells": [
    {
      "cell_type": "markdown",
      "metadata": {
        "id": "view-in-github",
        "colab_type": "text"
      },
      "source": [
        "<a href=\"https://colab.research.google.com/github/Ansarafsar/Letsupgrade-Assignment/blob/main/Weather_API.ipynb\" target=\"_parent\"><img src=\"https://colab.research.google.com/assets/colab-badge.svg\" alt=\"Open In Colab\"/></a>"
      ]
    },
    {
      "cell_type": "code",
      "metadata": {
        "id": "hi-iyEz2oUQV"
      },
      "source": [
        "#importing request module\n",
        "import requests\n",
        "\n",
        "#imorting pprint module for neat explaination\n",
        "from pprint import pprint"
      ],
      "execution_count": 12,
      "outputs": []
    },
    {
      "cell_type": "code",
      "metadata": {
        "colab": {
          "base_uri": "https://localhost:8080/"
        },
        "id": "Vg-qDsnPoaf-",
        "outputId": "f9d1431e-a31d-4f0c-ab82-2699a378911d"
      },
      "source": [
        "city = input('Enter your city: ')\n",
        "\n",
        "#To customize the input as from the default link from OWM API , added format option inside it.\n",
        "url = 'https://api.openweathermap.org/data/2.5/weather?q={}&appid=7de67d130997a582012150ddd4dfdbc6' .format(city)\n",
        "\n",
        "#Getting data from the OWM server\n",
        "res = requests.get(url)\n",
        "\n",
        "#Optimizing the data from json to output terminal\n",
        "data = res.json()\n",
        "\n",
        "print(res)\n",
        "#using pprint for a organised output from json file from the Web.\n",
        "pprint(data)"
      ],
      "execution_count": 20,
      "outputs": [
        {
          "output_type": "stream",
          "text": [
            "Enter your city: Delhi\n",
            "<Response [200]>\n",
            "{'base': 'stations',\n",
            " 'clouds': {'all': 40},\n",
            " 'cod': 200,\n",
            " 'coord': {'lat': 28.6667, 'lon': 77.2167},\n",
            " 'dt': 1625589327,\n",
            " 'id': 1273294,\n",
            " 'main': {'feels_like': 314.68,\n",
            "          'humidity': 46,\n",
            "          'pressure': 1001,\n",
            "          'temp': 309.2,\n",
            "          'temp_max': 309.99,\n",
            "          'temp_min': 309.2},\n",
            " 'name': 'Delhi',\n",
            " 'sys': {'country': 'IN',\n",
            "         'id': 9165,\n",
            "         'sunrise': 1625529516,\n",
            "         'sunset': 1625579565,\n",
            "         'type': 1},\n",
            " 'timezone': 19800,\n",
            " 'visibility': 3500,\n",
            " 'weather': [{'description': 'haze', 'icon': '50n', 'id': 721, 'main': 'Haze'}],\n",
            " 'wind': {'deg': 10, 'speed': 3.09}}\n"
          ],
          "name": "stdout"
        }
      ]
    },
    {
      "cell_type": "code",
      "metadata": {
        "id": "95cjJYKSpVno"
      },
      "source": [
        ""
      ],
      "execution_count": null,
      "outputs": []
    }
  ]
}