{
  "nbformat": 4,
  "nbformat_minor": 0,
  "metadata": {
    "colab": {
      "name": "Assignment_4_python for beginners.ipynb",
      "provenance": [],
      "collapsed_sections": [],
      "authorship_tag": "ABX9TyOy1rxTvHuyXFrwGzBxORIN",
      "include_colab_link": true
    },
    "kernelspec": {
      "name": "python3",
      "display_name": "Python 3"
    },
    "language_info": {
      "name": "python"
    }
  },
  "cells": [
    {
      "cell_type": "markdown",
      "metadata": {
        "id": "view-in-github",
        "colab_type": "text"
      },
      "source": [
        "<a href=\"https://colab.research.google.com/github/Ansarafsar/Letsupgrade-Assignment/blob/main/Assignment_4_python_for_beginners.ipynb\" target=\"_parent\"><img src=\"https://colab.research.google.com/assets/colab-badge.svg\" alt=\"Open In Colab\"/></a>"
      ]
    },
    {
      "cell_type": "code",
      "metadata": {
        "id": "ErMT3JqZHI0-"
      },
      "source": [
        "#You all are pilots, you have to land a plane, the altitude required for landing a plane is 1000ft, if it is less than that tell pilot to land the plane, or it is more than that but less than 5000ft ask the pilot to “come down to 1000ft”, else if it is more than 5000ft ask the pilot to “go around and try later”\n",
        "\n",
        "#Example : Input - 1000 Output - Safe to land\n",
        "\n",
        "#Example : Input - 4500 Output - Bring down to 1000\n",
        "\n",
        "#Example : Input - 6500 Output - Turn Around"
      ],
      "execution_count": 1,
      "outputs": []
    },
    {
      "cell_type": "code",
      "metadata": {
        "colab": {
          "base_uri": "https://localhost:8080/"
        },
        "id": "J6ZrVrCmIjwI",
        "outputId": "5b32bfa4-35e6-49e9-ce39-6fb78dd4b729"
      },
      "source": [
        "altitude = int(input(\"Enter the altitude\\n\"))\n",
        "\n",
        "if altitude <= 1000:\n",
        "  print(\"Safe to land\")\n",
        "elif altitude > 1000 and altitude <= 5000:\n",
        "  print(\"Bring down to 1000\")\n",
        "else:\n",
        "  print(\"Go Around and Try Later\")"
      ],
      "execution_count": 4,
      "outputs": [
        {
          "output_type": "stream",
          "text": [
            "Enter the altitude\n",
            "6000\n",
            "Go Around and Try Later\n"
          ],
          "name": "stdout"
        }
      ]
    },
    {
      "cell_type": "code",
      "metadata": {
        "id": "1n3WJ5_UIrTS"
      },
      "source": [
        ""
      ],
      "execution_count": null,
      "outputs": []
    }
  ]
}