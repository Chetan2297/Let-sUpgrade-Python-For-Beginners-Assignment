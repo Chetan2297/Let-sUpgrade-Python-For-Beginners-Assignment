{
  "nbformat": 4,
  "nbformat_minor": 0,
  "metadata": {
    "colab": {
      "name": "Assignment_Day 5_python for beginners.ipynb",
      "provenance": [],
      "collapsed_sections": [],
      "authorship_tag": "ABX9TyMgTOl3n7socX3aCjoJv7Sy",
      "include_colab_link": true
    },
    "kernelspec": {
      "name": "python3",
      "display_name": "Python 3"
    },
    "language_info": {
      "name": "python"
    }
  },
  "cells": [
    {
      "cell_type": "markdown",
      "metadata": {
        "id": "view-in-github",
        "colab_type": "text"
      },
      "source": [
        "<a href=\"https://colab.research.google.com/github/Ansarafsar/Letsupgrade-Assignment/blob/main/Assignment_Day_5_python_for_beginners.ipynb\" target=\"_parent\"><img src=\"https://colab.research.google.com/assets/colab-badge.svg\" alt=\"Open In Colab\"/></a>"
      ]
    },
    {
      "cell_type": "code",
      "metadata": {
        "id": "szv3_cpbJ2wd"
      },
      "source": [
        "number = int(input(\"Enter any number: \"))\n",
        "\n",
        "# prime number is always greater than 1\n",
        "if number > 1:\n",
        "    for i in range(2, number):\n",
        "        if (number % i) == 0:\n",
        "            print(number, \"is not a prime number\")\n",
        "            break\n",
        "    else:\n",
        "        print(number, \"is a prime number\")\n",
        "\n",
        "# if the entered number is less than or equal to 1\n",
        "# then it is not prime number\n",
        "else:\n",
        "    print(number, \"is not a prime number\")\n"
      ],
      "execution_count": null,
      "outputs": []
    },
    {
      "cell_type": "code",
      "metadata": {
        "id": "a_D8qqw5MlPQ"
      },
      "source": [
        "# YouTube Video Downloader:\n",
        "\n",
        " # to make this program work make sure pytube package is installed on your device\n",
        " # pip install pytube\n",
        "\n",
        "from pytube import YouTube\n",
        "\n",
        "video = YouTube(input(\"Enter the link of that video : \"))\n",
        "\n",
        "print(video.title)\n",
        "\n",
        "print(video.thumbnail_url)\n",
        "\n",
        "streams = video.streams\n",
        "\n",
        "for stream in streams:\n",
        "    print(stream)\n",
        "\n",
        "stream = video.streams.get_by_itag(\n",
        "    input(\"Enter the itag number you see below for the preferred quality : \"))\n",
        "\n",
        "\n",
        "file_size = stream.filesize\n",
        "\n",
        "print(round(file_size/(1024*1024)), \" MB\")\n",
        "\n",
        "print(\"Download Started ....... wait for a while....\")\n",
        "\n",
        "# stream.download(r'D:\\PY_YouTube_Download_videos') you can change folder as per you want.\n",
        "\n",
        "print(\"Download Successfully Compledted !\")"
      ],
      "execution_count": null,
      "outputs": []
    }
  ]
}