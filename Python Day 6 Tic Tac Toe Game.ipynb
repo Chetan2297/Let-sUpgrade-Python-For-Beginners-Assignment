{
  "nbformat": 4,
  "nbformat_minor": 0,
  "metadata": {
    "colab": {
      "name": "TIC TAC TOE.ipynb",
      "provenance": [],
      "collapsed_sections": [],
      "authorship_tag": "ABX9TyN412guI32ZLWsOZjfwQs6G",
      "include_colab_link": true
    },
    "kernelspec": {
      "name": "python3",
      "display_name": "Python 3"
    },
    "language_info": {
      "name": "python"
    }
  },
  "cells": [
    {
      "cell_type": "markdown",
      "metadata": {
        "id": "view-in-github",
        "colab_type": "text"
      },
      "source": [
        "<a href=\"https://colab.research.google.com/github/Ansarafsar/Letsupgrade-Assignment/blob/main/TIC_TAC_TOE%20GAME.ipynb\" target=\"_parent\"><img src=\"https://colab.research.google.com/assets/colab-badge.svg\" alt=\"Open In Colab\"/></a>"
      ]
    },
    {
      "cell_type": "code",
      "metadata": {
        "colab": {
          "base_uri": "https://localhost:8080/"
        },
        "id": "1xOhoL3EDciT",
        "outputId": "9caa8ffe-2ece-4f88-cf1e-1a40db32460d"
      },
      "source": [
        "#Implementation of Two Player Tic-Tac-Toe game in Python.\n",
        "\n",
        "\n",
        "theBoard = {'7': ' ' , '8': ' ' , '9': ' ' ,\n",
        "            '4': ' ' , '5': ' ' , '6': ' ' ,\n",
        "            '1': ' ' , '2': ' ' , '3': ' ' }\n",
        "#Creating the Board using dictionary\n",
        "board_keys = []\n",
        "\n",
        "for key in theBoard:\n",
        "    board_keys.append(key)\n",
        "\n",
        "#Appending Function\n",
        "\n",
        "def printBoard(board):\n",
        "    print(board['7'] + '|' + board['8'] + '|' + board['9'])\n",
        "    print('-+-+-')\n",
        "    print(board['4'] + '|' + board['5'] + '|' + board['6'])\n",
        "    print('-+-+-')\n",
        "    print(board['1'] + '|' + board['2'] + '|' + board['3'])\n",
        "\n",
        "#  gameplay functionality\n",
        "def game():\n",
        "\n",
        "    turn = 'X'\n",
        "    count = 0\n",
        "\n",
        "\n",
        "    for i in range(10):\n",
        "        printBoard(theBoard)\n",
        "        print(\"It's your turn,\" + turn + \".Move to which place?\")\n",
        "\n",
        "        move = input()        \n",
        "\n",
        "        if theBoard[move] == ' ':\n",
        "            theBoard[move] = turn\n",
        "            count += 1\n",
        "        else:\n",
        "            print(\"That place is already filled.\\nMove to which place?\")\n",
        "            continue\n",
        "\n",
        "        # Now we will check if player X or O has won,for every move after 5 moves. \n",
        "        if count >= 5:\n",
        "            if theBoard['7'] == theBoard['8'] == theBoard['9'] != ' ': # across the top\n",
        "                printBoard(theBoard)\n",
        "                print(\"\\nGame Over.\\n\")                \n",
        "                print(\" **** \" +turn + \" won. ****\")                \n",
        "                break\n",
        "            elif theBoard['4'] == theBoard['5'] == theBoard['6'] != ' ': # across the middle\n",
        "                printBoard(theBoard)\n",
        "                print(\"\\nGame Over.\\n\")                \n",
        "                print(\" **** \" +turn + \" won. ****\")\n",
        "                break\n",
        "            elif theBoard['1'] == theBoard['2'] == theBoard['3'] != ' ': # across the bottom\n",
        "                printBoard(theBoard)\n",
        "                print(\"\\nGame Over.\\n\")                \n",
        "                print(\" **** \" +turn + \" won. ****\")\n",
        "                break\n",
        "            elif theBoard['1'] == theBoard['4'] == theBoard['7'] != ' ': # down the left side\n",
        "                printBoard(theBoard)\n",
        "                print(\"\\nGame Over.\\n\")                \n",
        "                print(\" **** \" +turn + \" won. ****\")\n",
        "                break\n",
        "            elif theBoard['2'] == theBoard['5'] == theBoard['8'] != ' ': # down the middle\n",
        "                printBoard(theBoard)\n",
        "                print(\"\\nGame Over.\\n\")                \n",
        "                print(\" **** \" +turn + \" won. ****\")\n",
        "                break\n",
        "            elif theBoard['3'] == theBoard['6'] == theBoard['9'] != ' ': # down the right side\n",
        "                printBoard(theBoard)\n",
        "                print(\"\\nGame Over.\\n\")                \n",
        "                print(\" **** \" +turn + \" won. ****\")\n",
        "                break \n",
        "            elif theBoard['7'] == theBoard['5'] == theBoard['3'] != ' ': # diagonal\n",
        "                printBoard(theBoard)\n",
        "                print(\"\\nGame Over.\\n\")                \n",
        "                print(\" **** \" +turn + \" won. ****\")\n",
        "                break\n",
        "            elif theBoard['1'] == theBoard['5'] == theBoard['9'] != ' ': # diagonal\n",
        "                printBoard(theBoard)\n",
        "                print(\"\\nGame Over.\\n\")                \n",
        "                print(\" **** \" +turn + \" won. ****\")\n",
        "                break \n",
        "\n",
        "        # If neither X nor O wins and the board is full, we'll declare the result as 'tie'.\n",
        "        if count == 9:\n",
        "            print(\"\\nGame Over.\\n\")                \n",
        "            print(\"It's a Tie!!\")\n",
        "\n",
        "        # Now we have to change the player after every move.\n",
        "        if turn =='X':\n",
        "            turn = 'O'\n",
        "        else:\n",
        "            turn = 'X'        \n",
        "    \n",
        "    # Now we will ask if player wants to restart the game or not.\n",
        "    restart = input(\"Do want to play Again?(y/n)\")\n",
        "    if restart == \"y\" or restart == \"Y\":  \n",
        "        for key in board_keys:\n",
        "            theBoard[key] = \" \"\n",
        "\n",
        "        game()\n",
        "\n",
        "if __name__ == \"__main__\":\n",
        "    game()"
      ],
      "execution_count": null,
      "outputs": [
        {
          "output_type": "stream",
          "text": [
            " | | \n",
            "-+-+-\n",
            " | | \n",
            "-+-+-\n",
            " | | \n",
            "It's your turn,X.Move to which place?\n"
          ],
          "name": "stdout"
        }
      ]
    }
  ]
}